{
 "cells": [
  {
   "cell_type": "markdown",
   "source": [],
   "metadata": {
    "collapsed": false
   },
   "id": "ce53efcee37d8953"
  },
  {
   "cell_type": "code",
   "outputs": [],
   "source": [
    "from scipy.spatial.distance import cdist\n",
    "import pandas as pd\n",
    "import numpy as np\n",
    "\n",
    "from src.objects.customer import Customer\n",
    "from src.aco.aco import ACO\n",
    "import src.variables as vars\n",
    "import src.printer as pr\n",
    "import random"
   ],
   "metadata": {
    "collapsed": false,
    "ExecuteTime": {
     "end_time": "2024-11-27T08:53:14.669510Z",
     "start_time": "2024-11-27T08:53:14.659999Z"
    }
   },
   "id": "eb82f9a26d40351c",
   "execution_count": 4
  },
  {
   "cell_type": "code",
   "outputs": [],
   "source": [
    "def instance_generator(customer_count, rand_seed=0):\n",
    "    \"\"\"\n",
    "    Generates a random instance of the vehicle routing problem.\n",
    "\n",
    "    Returns:\n",
    "    tuple: List of customer objects and the depot object., number of trucks, capacity of each truck\n",
    "    \"\"\"\n",
    "    random.seed(rand_seed)  # Set the random seed for reproducibility\n",
    "    \n",
    "    # Number of trucks\n",
    "    truck_count = random.randint(10, 75)\n",
    "    \n",
    "    # Capacity of each truck\n",
    "    capacity = random.randint(10, 50) * 10\n",
    "\n",
    "    # Number of customers\n",
    "    num_customers = customer_count\n",
    "    \n",
    "    # Generate random service time for the customer\n",
    "    service_time = random.randint(1, 5) * 10\n",
    "\n",
    "    for i in range(1, num_customers + 1):\n",
    "\n",
    "        # Generate random demand for the customer\n",
    "        demand = random.randint(1, 10) * 10\n",
    "        \n",
    "        # Generate random coordinates for the customer\n",
    "        x_coord = random.uniform(0, 100)\n",
    "        y_coord = random.uniform(0, 100)\n",
    "\n",
    "        # Generate random ready time for the customer\n",
    "        ready_time = random.randint(0, 1000)\n",
    "\n",
    "        # Generate random due date for the customer\n",
    "        due_date = ready_time + random.randint(100, 300)\n",
    "\n",
    "        # Create a Customer object and add it to the list of customers\n",
    "        customers.append(Customer(i, x_coord, y_coord, demand, ready_time, due_date, service_time))\n",
    "\n",
    "    # Generate the depot (warehouse) at the center of the customers\n",
    "    depot = Customer(0, sum(customer.x_coord for customer in customers) / num_customers, sum(customer.y_coord for customer in customers) / num_customers, 0, 0, max(x.due_date for x in customers) + service_time + 100, 0)\n",
    "\n",
    "    return [depot] + customers, truck_count, capacity"
   ],
   "metadata": {
    "collapsed": false,
    "ExecuteTime": {
     "end_time": "2024-11-27T08:53:14.843983Z",
     "start_time": "2024-11-27T08:53:14.829471Z"
    }
   },
   "id": "86ed89eb78e04966",
   "execution_count": 5
  },
  {
   "cell_type": "code",
   "outputs": [
    {
     "name": "stdout",
     "output_type": "stream",
     "text": [
      "Number of trucks: 50\n",
      "Capacity of each truck: 200\n",
      "Number of customers: 199\n",
      "Running ACO...\n"
     ]
    },
    {
     "ename": "IndexError",
     "evalue": "index 200 is out of bounds for axis 0 with size 200",
     "output_type": "error",
     "traceback": [
      "\u001B[1;31m---------------------------------------------------------------------------\u001B[0m",
      "\u001B[1;31mIndexError\u001B[0m                                Traceback (most recent call last)",
      "Cell \u001B[1;32mIn[6], line 85\u001B[0m\n\u001B[0;32m     70\u001B[0m aco \u001B[38;5;241m=\u001B[39m ACO(\n\u001B[0;32m     71\u001B[0m     customers,\n\u001B[0;32m     72\u001B[0m     warehouse,\n\u001B[1;32m   (...)\u001B[0m\n\u001B[0;32m     81\u001B[0m     debug\u001B[38;5;241m=\u001B[39m\u001B[38;5;28;01mTrue\u001B[39;00m\n\u001B[0;32m     82\u001B[0m )\n\u001B[0;32m     84\u001B[0m \u001B[38;5;66;03m# Run the ACO algorithm to find the best solution\u001B[39;00m\n\u001B[1;32m---> 85\u001B[0m best_solution, best_cost \u001B[38;5;241m=\u001B[39m \u001B[43maco\u001B[49m\u001B[38;5;241;43m.\u001B[39;49m\u001B[43mrun\u001B[49m\u001B[43m(\u001B[49m\u001B[43m)\u001B[49m\n\u001B[0;32m     86\u001B[0m \u001B[38;5;66;03m# print(\"Best solution:\", best_solution)  # Print the best solution found\u001B[39;00m\n\u001B[0;32m     87\u001B[0m \u001B[38;5;66;03m# print(\"Best cost:\", best_cost)  # Print the cost of the best solution\u001B[39;00m\n\u001B[0;32m     89\u001B[0m best_solution \u001B[38;5;241m=\u001B[39m aco\u001B[38;5;241m.\u001B[39mremove_unused_trucks(best_solution)  \u001B[38;5;66;03m# Remove unused trucks from the solution\u001B[39;00m\n",
      "File \u001B[1;32m~\\Dev\\Python\\Projet-Advanced-Algorithms\\src\\aco\\aco.py:47\u001B[0m, in \u001B[0;36mACO.run\u001B[1;34m(self)\u001B[0m\n\u001B[0;32m     44\u001B[0m futures \u001B[38;5;241m=\u001B[39m [executor\u001B[38;5;241m.\u001B[39msubmit(\u001B[38;5;28mself\u001B[39m\u001B[38;5;241m.\u001B[39mconstruct_and_evaluate, ant) \u001B[38;5;28;01mfor\u001B[39;00m ant \u001B[38;5;129;01min\u001B[39;00m ants]\n\u001B[0;32m     46\u001B[0m \u001B[38;5;28;01mfor\u001B[39;00m future \u001B[38;5;129;01min\u001B[39;00m concurrent\u001B[38;5;241m.\u001B[39mfutures\u001B[38;5;241m.\u001B[39mas_completed(futures):\n\u001B[1;32m---> 47\u001B[0m     cost, solution \u001B[38;5;241m=\u001B[39m \u001B[43mfuture\u001B[49m\u001B[38;5;241;43m.\u001B[39;49m\u001B[43mresult\u001B[49m\u001B[43m(\u001B[49m\u001B[43m)\u001B[49m\n\u001B[0;32m     49\u001B[0m     \u001B[38;5;28;01mif\u001B[39;00m \u001B[38;5;28mself\u001B[39m\u001B[38;5;241m.\u001B[39mdebug:\n\u001B[0;32m     50\u001B[0m         \u001B[38;5;28mprint\u001B[39m(\u001B[38;5;124mf\u001B[39m\u001B[38;5;124m\"\u001B[39m\u001B[38;5;124mSolution found, Cost: \u001B[39m\u001B[38;5;132;01m{\u001B[39;00mcost\u001B[38;5;132;01m:\u001B[39;00m\u001B[38;5;124m.2f\u001B[39m\u001B[38;5;132;01m}\u001B[39;00m\u001B[38;5;124m (\u001B[39m\u001B[38;5;132;01m{\u001B[39;00m\u001B[38;5;28mint\u001B[39m(cost\u001B[38;5;250m \u001B[39m\u001B[38;5;241m<\u001B[39m\u001B[38;5;250m \u001B[39mbest_cost)\u001B[38;5;132;01m}\u001B[39;00m\u001B[38;5;124m)\u001B[39m\u001B[38;5;124m\"\u001B[39m)\n",
      "File \u001B[1;32m~\\AppData\\Local\\Programs\\Python\\Python310\\lib\\concurrent\\futures\\_base.py:439\u001B[0m, in \u001B[0;36mFuture.result\u001B[1;34m(self, timeout)\u001B[0m\n\u001B[0;32m    437\u001B[0m     \u001B[38;5;28;01mraise\u001B[39;00m CancelledError()\n\u001B[0;32m    438\u001B[0m \u001B[38;5;28;01melif\u001B[39;00m \u001B[38;5;28mself\u001B[39m\u001B[38;5;241m.\u001B[39m_state \u001B[38;5;241m==\u001B[39m FINISHED:\n\u001B[1;32m--> 439\u001B[0m     \u001B[38;5;28;01mreturn\u001B[39;00m \u001B[38;5;28;43mself\u001B[39;49m\u001B[38;5;241;43m.\u001B[39;49m\u001B[43m__get_result\u001B[49m\u001B[43m(\u001B[49m\u001B[43m)\u001B[49m\n\u001B[0;32m    441\u001B[0m \u001B[38;5;28mself\u001B[39m\u001B[38;5;241m.\u001B[39m_condition\u001B[38;5;241m.\u001B[39mwait(timeout)\n\u001B[0;32m    443\u001B[0m \u001B[38;5;28;01mif\u001B[39;00m \u001B[38;5;28mself\u001B[39m\u001B[38;5;241m.\u001B[39m_state \u001B[38;5;129;01min\u001B[39;00m [CANCELLED, CANCELLED_AND_NOTIFIED]:\n",
      "File \u001B[1;32m~\\AppData\\Local\\Programs\\Python\\Python310\\lib\\concurrent\\futures\\_base.py:391\u001B[0m, in \u001B[0;36mFuture.__get_result\u001B[1;34m(self)\u001B[0m\n\u001B[0;32m    389\u001B[0m \u001B[38;5;28;01mif\u001B[39;00m \u001B[38;5;28mself\u001B[39m\u001B[38;5;241m.\u001B[39m_exception:\n\u001B[0;32m    390\u001B[0m     \u001B[38;5;28;01mtry\u001B[39;00m:\n\u001B[1;32m--> 391\u001B[0m         \u001B[38;5;28;01mraise\u001B[39;00m \u001B[38;5;28mself\u001B[39m\u001B[38;5;241m.\u001B[39m_exception\n\u001B[0;32m    392\u001B[0m     \u001B[38;5;28;01mfinally\u001B[39;00m:\n\u001B[0;32m    393\u001B[0m         \u001B[38;5;66;03m# Break a reference cycle with the exception in self._exception\u001B[39;00m\n\u001B[0;32m    394\u001B[0m         \u001B[38;5;28mself\u001B[39m \u001B[38;5;241m=\u001B[39m \u001B[38;5;28;01mNone\u001B[39;00m\n",
      "File \u001B[1;32m~\\AppData\\Local\\Programs\\Python\\Python310\\lib\\concurrent\\futures\\thread.py:58\u001B[0m, in \u001B[0;36m_WorkItem.run\u001B[1;34m(self)\u001B[0m\n\u001B[0;32m     55\u001B[0m     \u001B[38;5;28;01mreturn\u001B[39;00m\n\u001B[0;32m     57\u001B[0m \u001B[38;5;28;01mtry\u001B[39;00m:\n\u001B[1;32m---> 58\u001B[0m     result \u001B[38;5;241m=\u001B[39m \u001B[38;5;28mself\u001B[39m\u001B[38;5;241m.\u001B[39mfn(\u001B[38;5;241m*\u001B[39m\u001B[38;5;28mself\u001B[39m\u001B[38;5;241m.\u001B[39margs, \u001B[38;5;241m*\u001B[39m\u001B[38;5;241m*\u001B[39m\u001B[38;5;28mself\u001B[39m\u001B[38;5;241m.\u001B[39mkwargs)\n\u001B[0;32m     59\u001B[0m \u001B[38;5;28;01mexcept\u001B[39;00m \u001B[38;5;167;01mBaseException\u001B[39;00m \u001B[38;5;28;01mas\u001B[39;00m exc:\n\u001B[0;32m     60\u001B[0m     \u001B[38;5;28mself\u001B[39m\u001B[38;5;241m.\u001B[39mfuture\u001B[38;5;241m.\u001B[39mset_exception(exc)\n",
      "File \u001B[1;32m~\\Dev\\Python\\Projet-Advanced-Algorithms\\src\\aco\\aco.py:63\u001B[0m, in \u001B[0;36mACO.construct_and_evaluate\u001B[1;34m(self, ant)\u001B[0m\n\u001B[0;32m     62\u001B[0m \u001B[38;5;28;01mdef\u001B[39;00m \u001B[38;5;21mconstruct_and_evaluate\u001B[39m(\u001B[38;5;28mself\u001B[39m, ant):\n\u001B[1;32m---> 63\u001B[0m     \u001B[43mant\u001B[49m\u001B[38;5;241;43m.\u001B[39;49m\u001B[43mconstruct_solution\u001B[49m\u001B[43m(\u001B[49m\u001B[38;5;28;43mself\u001B[39;49m\u001B[38;5;241;43m.\u001B[39;49m\u001B[43mpheromone\u001B[49m\u001B[43m,\u001B[49m\u001B[43m \u001B[49m\u001B[38;5;28;43mself\u001B[39;49m\u001B[38;5;241;43m.\u001B[39;49m\u001B[43mpheromone_importance\u001B[49m\u001B[43m,\u001B[49m\u001B[43m \u001B[49m\u001B[38;5;28;43mself\u001B[39;49m\u001B[38;5;241;43m.\u001B[39;49m\u001B[43mheuristic_importance\u001B[49m\u001B[43m)\u001B[49m\n\u001B[0;32m     64\u001B[0m     cost \u001B[38;5;241m=\u001B[39m \u001B[38;5;28mself\u001B[39m\u001B[38;5;241m.\u001B[39mcalculate_distance_cost(ant\u001B[38;5;241m.\u001B[39msolution)\n\u001B[0;32m     66\u001B[0m     \u001B[38;5;28;01mreturn\u001B[39;00m cost, ant\u001B[38;5;241m.\u001B[39msolution\n",
      "File \u001B[1;32m~\\Dev\\Python\\Projet-Advanced-Algorithms\\src\\aco\\ant.py:34\u001B[0m, in \u001B[0;36mAnt.construct_solution\u001B[1;34m(self, pheromone, pheromone_importance, heuristic_importance)\u001B[0m\n\u001B[0;32m     32\u001B[0m truck\u001B[38;5;241m.\u001B[39mtime \u001B[38;5;241m=\u001B[39m \u001B[38;5;241m0\u001B[39m\n\u001B[0;32m     33\u001B[0m \u001B[38;5;28;01mwhile\u001B[39;00m unvisited:\n\u001B[1;32m---> 34\u001B[0m     next_customer \u001B[38;5;241m=\u001B[39m \u001B[38;5;28;43mself\u001B[39;49m\u001B[38;5;241;43m.\u001B[39;49m\u001B[43mselect_next_customer\u001B[49m\u001B[43m(\u001B[49m\u001B[43mtruck\u001B[49m\u001B[43m,\u001B[49m\u001B[43m \u001B[49m\u001B[43munvisited\u001B[49m\u001B[43m,\u001B[49m\u001B[43m \u001B[49m\u001B[43mpheromone\u001B[49m\u001B[43m,\u001B[49m\u001B[43m \u001B[49m\u001B[43mpheromone_importance\u001B[49m\u001B[43m,\u001B[49m\u001B[43m \u001B[49m\u001B[43mheuristic_importance\u001B[49m\u001B[43m)\u001B[49m\n\u001B[0;32m     35\u001B[0m     \u001B[38;5;28;01mif\u001B[39;00m next_customer \u001B[38;5;129;01mis\u001B[39;00m \u001B[38;5;28;01mNone\u001B[39;00m:\n\u001B[0;32m     36\u001B[0m         \u001B[38;5;28;01mbreak\u001B[39;00m\n",
      "File \u001B[1;32m~\\Dev\\Python\\Projet-Advanced-Algorithms\\src\\aco\\ant.py:63\u001B[0m, in \u001B[0;36mAnt.select_next_customer\u001B[1;34m(self, truck, unvisited, pheromone, pheromone_importance, heuristic_importance)\u001B[0m\n\u001B[0;32m     49\u001B[0m \u001B[38;5;28;01mdef\u001B[39;00m \u001B[38;5;21mselect_next_customer\u001B[39m(\u001B[38;5;28mself\u001B[39m, truck, unvisited, pheromone, pheromone_importance, heuristic_importance):\n\u001B[0;32m     50\u001B[0m \u001B[38;5;250m    \u001B[39m\u001B[38;5;124;03m\"\"\"\u001B[39;00m\n\u001B[0;32m     51\u001B[0m \u001B[38;5;124;03m    Selects the next customer for the truck to visit based on pheromone levels and heuristic information.\u001B[39;00m\n\u001B[0;32m     52\u001B[0m \n\u001B[1;32m   (...)\u001B[0m\n\u001B[0;32m     61\u001B[0m \u001B[38;5;124;03m    object: The next customer object to visit, or None if no feasible customer is found.\u001B[39;00m\n\u001B[0;32m     62\u001B[0m \u001B[38;5;124;03m    \"\"\"\u001B[39;00m\n\u001B[1;32m---> 63\u001B[0m     feasible_customers \u001B[38;5;241m=\u001B[39m [\n\u001B[0;32m     64\u001B[0m         c \u001B[38;5;28;01mfor\u001B[39;00m c \u001B[38;5;129;01min\u001B[39;00m unvisited\n\u001B[0;32m     65\u001B[0m         \u001B[38;5;28;01mif\u001B[39;00m truck\u001B[38;5;241m.\u001B[39mload \u001B[38;5;241m+\u001B[39m c\u001B[38;5;241m.\u001B[39mdemand \u001B[38;5;241m<\u001B[39m\u001B[38;5;241m=\u001B[39m truck\u001B[38;5;241m.\u001B[39mcapacity\n\u001B[0;32m     66\u001B[0m            \u001B[38;5;129;01mand\u001B[39;00m truck\u001B[38;5;241m.\u001B[39mtime \u001B[38;5;241m+\u001B[39m truck\u001B[38;5;241m.\u001B[39mroute[\u001B[38;5;241m-\u001B[39m\u001B[38;5;241m1\u001B[39m]\u001B[38;5;241m.\u001B[39mdistance_to(c) \u001B[38;5;241m+\u001B[39m c\u001B[38;5;241m.\u001B[39mservice_time \u001B[38;5;241m+\u001B[39m c\u001B[38;5;241m.\u001B[39mdistance_to(\u001B[38;5;28mself\u001B[39m\u001B[38;5;241m.\u001B[39mdepot) \u001B[38;5;241m<\u001B[39m\u001B[38;5;241m=\u001B[39m \u001B[38;5;28mself\u001B[39m\u001B[38;5;241m.\u001B[39mdepot\u001B[38;5;241m.\u001B[39mdue_date\n\u001B[0;32m     67\u001B[0m     ]\n\u001B[0;32m     68\u001B[0m     \u001B[38;5;28;01mif\u001B[39;00m \u001B[38;5;129;01mnot\u001B[39;00m feasible_customers:\n\u001B[0;32m     69\u001B[0m         \u001B[38;5;28;01mreturn\u001B[39;00m \u001B[38;5;28;01mNone\u001B[39;00m\n",
      "File \u001B[1;32m~\\Dev\\Python\\Projet-Advanced-Algorithms\\src\\aco\\ant.py:66\u001B[0m, in \u001B[0;36m<listcomp>\u001B[1;34m(.0)\u001B[0m\n\u001B[0;32m     49\u001B[0m \u001B[38;5;28;01mdef\u001B[39;00m \u001B[38;5;21mselect_next_customer\u001B[39m(\u001B[38;5;28mself\u001B[39m, truck, unvisited, pheromone, pheromone_importance, heuristic_importance):\n\u001B[0;32m     50\u001B[0m \u001B[38;5;250m    \u001B[39m\u001B[38;5;124;03m\"\"\"\u001B[39;00m\n\u001B[0;32m     51\u001B[0m \u001B[38;5;124;03m    Selects the next customer for the truck to visit based on pheromone levels and heuristic information.\u001B[39;00m\n\u001B[0;32m     52\u001B[0m \n\u001B[1;32m   (...)\u001B[0m\n\u001B[0;32m     61\u001B[0m \u001B[38;5;124;03m    object: The next customer object to visit, or None if no feasible customer is found.\u001B[39;00m\n\u001B[0;32m     62\u001B[0m \u001B[38;5;124;03m    \"\"\"\u001B[39;00m\n\u001B[0;32m     63\u001B[0m     feasible_customers \u001B[38;5;241m=\u001B[39m [\n\u001B[0;32m     64\u001B[0m         c \u001B[38;5;28;01mfor\u001B[39;00m c \u001B[38;5;129;01min\u001B[39;00m unvisited\n\u001B[0;32m     65\u001B[0m         \u001B[38;5;28;01mif\u001B[39;00m truck\u001B[38;5;241m.\u001B[39mload \u001B[38;5;241m+\u001B[39m c\u001B[38;5;241m.\u001B[39mdemand \u001B[38;5;241m<\u001B[39m\u001B[38;5;241m=\u001B[39m truck\u001B[38;5;241m.\u001B[39mcapacity\n\u001B[1;32m---> 66\u001B[0m            \u001B[38;5;129;01mand\u001B[39;00m truck\u001B[38;5;241m.\u001B[39mtime \u001B[38;5;241m+\u001B[39m \u001B[43mtruck\u001B[49m\u001B[38;5;241;43m.\u001B[39;49m\u001B[43mroute\u001B[49m\u001B[43m[\u001B[49m\u001B[38;5;241;43m-\u001B[39;49m\u001B[38;5;241;43m1\u001B[39;49m\u001B[43m]\u001B[49m\u001B[38;5;241;43m.\u001B[39;49m\u001B[43mdistance_to\u001B[49m\u001B[43m(\u001B[49m\u001B[43mc\u001B[49m\u001B[43m)\u001B[49m \u001B[38;5;241m+\u001B[39m c\u001B[38;5;241m.\u001B[39mservice_time \u001B[38;5;241m+\u001B[39m c\u001B[38;5;241m.\u001B[39mdistance_to(\u001B[38;5;28mself\u001B[39m\u001B[38;5;241m.\u001B[39mdepot) \u001B[38;5;241m<\u001B[39m\u001B[38;5;241m=\u001B[39m \u001B[38;5;28mself\u001B[39m\u001B[38;5;241m.\u001B[39mdepot\u001B[38;5;241m.\u001B[39mdue_date\n\u001B[0;32m     67\u001B[0m     ]\n\u001B[0;32m     68\u001B[0m     \u001B[38;5;28;01mif\u001B[39;00m \u001B[38;5;129;01mnot\u001B[39;00m feasible_customers:\n\u001B[0;32m     69\u001B[0m         \u001B[38;5;28;01mreturn\u001B[39;00m \u001B[38;5;28;01mNone\u001B[39;00m\n",
      "File \u001B[1;32m~\\Dev\\Python\\Projet-Advanced-Algorithms\\src\\objects\\customer.py:36\u001B[0m, in \u001B[0;36mCustomer.distance_to\u001B[1;34m(self, other)\u001B[0m\n\u001B[0;32m     26\u001B[0m \u001B[38;5;28;01mdef\u001B[39;00m \u001B[38;5;21mdistance_to\u001B[39m(\u001B[38;5;28mself\u001B[39m, other):\n\u001B[0;32m     27\u001B[0m \u001B[38;5;250m    \u001B[39m\u001B[38;5;124;03m\"\"\"\u001B[39;00m\n\u001B[0;32m     28\u001B[0m \u001B[38;5;124;03m    Calculates the distance to another customer.\u001B[39;00m\n\u001B[0;32m     29\u001B[0m \n\u001B[1;32m   (...)\u001B[0m\n\u001B[0;32m     34\u001B[0m \u001B[38;5;124;03m        float: The distance to the other customer.\u001B[39;00m\n\u001B[0;32m     35\u001B[0m \u001B[38;5;124;03m    \"\"\"\u001B[39;00m\n\u001B[1;32m---> 36\u001B[0m     \u001B[38;5;28;01mreturn\u001B[39;00m \u001B[38;5;28;43mvars\u001B[39;49m\u001B[38;5;241;43m.\u001B[39;49m\u001B[43mdistance_matrix\u001B[49m\u001B[43m[\u001B[49m\u001B[38;5;28;43mself\u001B[39;49m\u001B[38;5;241;43m.\u001B[39;49m\u001B[43mcust_no\u001B[49m\u001B[43m]\u001B[49m\u001B[43m[\u001B[49m\u001B[43mother\u001B[49m\u001B[38;5;241;43m.\u001B[39;49m\u001B[43mcust_no\u001B[49m\u001B[43m]\u001B[49m\n",
      "\u001B[1;31mIndexError\u001B[0m: index 200 is out of bounds for axis 0 with size 200"
     ]
    }
   ],
   "source": [
    "def read_dataset(file_path):\n",
    "    # Reading the vehicle data (lines 3-4)\n",
    "    vehicle_df = pd.read_csv(file_path, skiprows=4, nrows=1, sep='\\\\s+', names=['Number', 'Capacity'])\n",
    "    \n",
    "    # Reading the customer data (after line 9)\n",
    "    customers_df = pd.read_csv(file_path, skiprows=9, sep='\\\\s+', names=['Cust No.', 'XCoord.', 'YCoord.', 'Demand', 'Ready Time', 'Due Date', 'Service Time'])\n",
    "\n",
    "    truck_count = vehicle_df['Number'][0]  # Get the number of trucks\n",
    "    capacity = vehicle_df['Capacity'][0]  # Get the capacity of each truck\n",
    "\n",
    "    # Create a list of Customer objects from the customer data\n",
    "    customers = [Customer(row['Cust No.'], row['XCoord.'], row['YCoord.'], row['Demand'], row['Ready Time'], row['Due Date'], row['Service Time']) for index, row in customers_df.iterrows()]\n",
    "    \n",
    "    return customers, truck_count, capacity\n",
    "\n",
    "# if __name__ == '__main__':\n",
    "#     for i in range(101, 113):\n",
    "#         customers, warehouse, truck_count, capacity = read_dataset(f'dataset/c{i}.txt') # Read the dataset from the input file\n",
    "#     \n",
    "#         print(\"-\" * 100)\n",
    "#         print(f\"Dataset: c{i}.txt\")\n",
    "#         print(\"-\" * 100)\n",
    "#         # Print the vehicle data\n",
    "#         print(f\"Number of trucks: {truck_count}\")\n",
    "#         print(f\"Capacity of each truck: {capacity}\")\n",
    "#         print(f\"Number of customers: {len(customers) - 1}\")\n",
    "#     \n",
    "#         # Initialize the Ant Colony Optimization (ACO) algorithm\n",
    "#         aco = ACO(\n",
    "#             customers,\n",
    "#             warehouse,\n",
    "#             truck_count=truck_count,\n",
    "#             truck_capacity=capacity,\n",
    "#             iterations=100,\n",
    "#             ants_count=15,\n",
    "#             pheromone_importance=2.0,\n",
    "#             heuristic_importance=2.0,\n",
    "#             evaporation_rate=0.1,\n",
    "#             pheromone_init=5.0,\n",
    "#             debug=False\n",
    "#         )\n",
    "#     \n",
    "#         # Run the ACO algorithm to find the best solution\n",
    "#         best_solution, best_cost = aco.run()\n",
    "#         \n",
    "#         best_solution = aco.remove_unused_trucks(best_solution)  # Remove unused trucks from the solution\n",
    "#         \n",
    "#         # Plot the routes of the best solution\n",
    "#         plot_routes(best_solution, warehouse)\n",
    "#         \n",
    "#         # Print the cost history\n",
    "#         print_costs_history(ACO.costs)\n",
    "#         \n",
    "#         # Print the truck usage details\n",
    "#         print_truck_usage(best_solution, warehouse, show_graphics=False)\n",
    "\n",
    "if __name__ == '__main__':\n",
    "    customers, truck_count, capacity = read_dataset('dataset/c1_2_1.txt')  # Read the dataset from the input file\n",
    "    # customers, truck_count, capacity = instance_generator(10)  # Generate a random instance of the vehicle routing problem\n",
    "\n",
    "    # Print the vehicle data\n",
    "    print(f\"Number of trucks: {truck_count}\")\n",
    "    print(f\"Capacity of each truck: {capacity}\")\n",
    "    print(f\"Number of customers: {len(customers) - 1}\")\n",
    "\n",
    "    # Initialize the Ant Colony Optimization (ACO) algorithm\n",
    "    aco = ACO(\n",
    "        customers,\n",
    "        truck_count=truck_count,\n",
    "        truck_capacity=capacity,\n",
    "        iterations=75,\n",
    "        ants_count=30,\n",
    "        pheromone_importance=2.0,\n",
    "        heuristic_importance=2.0,\n",
    "        evaporation_rate=0.1,\n",
    "        pheromone_init=5.0,\n",
    "        debug=True\n",
    "    )\n",
    "\n",
    "    # Run the ACO algorithm to find the best solution\n",
    "    best_solution, best_cost = aco.run()\n",
    "    # print(\"Best solution:\", best_solution)  # Print the best solution found\n",
    "    # print(\"Best cost:\", best_cost)  # Print the cost of the best solution\n",
    "\n",
    "    best_solution = aco.remove_unused_trucks(best_solution)  # Remove unused trucks from the solution\n",
    "\n",
    "    # Plot the routes of the best solution\n",
    "    pr.plot_routes(best_solution, warehouse)\n",
    "\n",
    "    # Print the cost history\n",
    "    pr.print_costs_history(aco.costs)\n",
    "\n",
    "    # Print the truck usage details\n",
    "    pr.print_truck_usage(best_solution, warehouse)"
   ],
   "metadata": {
    "collapsed": false,
    "ExecuteTime": {
     "end_time": "2024-11-27T08:53:15.462405Z",
     "start_time": "2024-11-27T08:53:14.852499Z"
    }
   },
   "id": "e8e4ce981deb819a",
   "execution_count": 6
  }
 ],
 "metadata": {
  "kernelspec": {
   "name": "python3",
   "language": "python",
   "display_name": "Python 3 (ipykernel)"
  },
  "language_info": {
   "codemirror_mode": {
    "name": "ipython",
    "version": 2
   },
   "file_extension": ".py",
   "mimetype": "text/x-python",
   "name": "python",
   "nbconvert_exporter": "python",
   "pygments_lexer": "ipython2",
   "version": "2.7.6"
  }
 },
 "nbformat": 4,
 "nbformat_minor": 5
}
