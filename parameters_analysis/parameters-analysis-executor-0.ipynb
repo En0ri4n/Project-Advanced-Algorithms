{
 "cells": [
  {
   "cell_type": "code",
   "outputs": [],
   "source": [
    "%run \"../main.ipynb\""
   ],
   "metadata": {
    "collapsed": false
   },
   "id": "2adf67040386fd7f",
   "execution_count": null
  },
  {
   "cell_type": "code",
   "outputs": [],
   "source": [
    "test_parameters_to_excel(\n",
    "        file_path='../dataset/c101.txt',\n",
    "        excel_name='parameters_results',\n",
    "        num_ants_list=[20],\n",
    "        num_iterations_list=[20],\n",
    "        pheromon_importance_alpha_list=[1.0],\n",
    "        heuristic_importance_beta_list=[1.0],\n",
    "        evaporation_rho_list=[0.1],\n",
    "        pheromon_init_list=[-1]\n",
    "    )"
   ],
   "metadata": {
    "collapsed": false
   },
   "id": "72f25da5310636ae",
   "execution_count": null
  }
 ],
 "metadata": {
  "kernelspec": {
   "name": "python3",
   "language": "python",
   "display_name": "Python 3 (ipykernel)"
  },
  "language_info": {
   "codemirror_mode": {
    "name": "ipython",
    "version": 2
   },
   "file_extension": ".py",
   "mimetype": "text/x-python",
   "name": "python",
   "nbconvert_exporter": "python",
   "pygments_lexer": "ipython2",
   "version": "2.7.6"
  }
 },
 "nbformat": 4,
 "nbformat_minor": 5
}
